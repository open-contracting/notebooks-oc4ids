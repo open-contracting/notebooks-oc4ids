{
  "nbformat": 4,
  "nbformat_minor": 0,
  "metadata": {
    "colab": {
      "provenance": [],
      "toc_visible": true,
      "authorship_tag": "ABX9TyM0FJLcIwJ1QmGM4SrY3/O4"
    },
    "kernelspec": {
      "name": "python3",
      "display_name": "Python 3"
    },
    "language_info": {
      "name": "python"
    }
  },
  "cells": [
    {
      "cell_type": "markdown",
      "source": [
        "# OC4IDS Quality Criteria, Checks and Metrics"
      ],
      "metadata": {
        "id": "BZCAUfvh72HR"
      }
    },
    {
      "cell_type": "markdown",
      "source": [
        "Use this notebook to check data against the OC4IDS publication criteria, to perform quality checks and to calculate quality metrics. After running checks, use the status report notebook to report on the results."
      ],
      "metadata": {
        "id": "2WPGV_vzQncX"
      }
    },
    {
      "cell_type": "markdown",
      "source": [
        "## How to use this notebook\n",
        "\n",
        "1. Run the cells in [Setup](#scrollTo=wh6V7iqi76GR)\n",
        "2. [Choose a load](#scrollTo=U4apQasSWqjv) to check\n",
        "3. Run all cells in [Run checks](#scrollTo=OPnM-ojl78gX)"
      ],
      "metadata": {
        "id": "F2GfFVHnRCWp"
      }
    },
    {
      "cell_type": "markdown",
      "source": [
        "## Setup"
      ],
      "metadata": {
        "id": "wh6V7iqi76GR"
      }
    },
    {
      "cell_type": "code",
      "execution_count": null,
      "metadata": {
        "id": "27yRx-oaXPtd",
        "cellView": "form"
      },
      "outputs": [],
      "source": [
        "# @title ### Enter database credentials\n",
        "# @markdown ODS users: Enter the password for the `postgres` user, from the ODS password database.\n",
        "import getpass\n",
        "\n",
        "print('Enter your credentials')\n",
        "user = 'postgres'\n",
        "password = getpass.getpass('Password:')"
      ]
    },
    {
      "cell_type": "code",
      "execution_count": null,
      "metadata": {
        "id": "VjuPJaBUMapU",
        "cellView": "form"
      },
      "outputs": [],
      "source": [
        "# @title ### Setup notebook environment\n",
        "\n",
        "!pip install --upgrade ipython-sql > pip.log\n",
        "\n",
        "connection_string = 'postgresql://' + user + ':' + password + '@oc4ids-database-2.cuujgua4wses.us-east-1.rds.amazonaws.com/postgres'\n",
        "\n",
        "# https://pypi.org/project/ipython-sql/\n",
        "%load_ext sql\n",
        "%sql $connection_string\n",
        "%config SqlMagic.autopandas = True  # Return Pandas DataFrames instead of regular result sets\n",
        "%config SqlMagic.displaycon = False  # Don't show connection string after execute\n",
        "%config SqlMagic.feedback = False  # Don't print number of rows affected by DML\n",
        "\n",
        "# https://colab.research.google.com/notebooks/data_table.ipynb\n",
        "%load_ext google.colab.data_table\n",
        "from google.colab.data_table import DataTable\n",
        "DataTable.max_columns = 50 # Increase max columns so that dataframes with many columns are rendered as data tables\n",
        "DataTable.include_index = False # Remove the index from data tables for easier copy-pasting to Google Docs"
      ]
    },
    {
      "cell_type": "code",
      "source": [
        "# @title ### Define functions\n",
        "\n",
        "import requests\n",
        "\n",
        "def add_exchange_rates(dates):\n",
        "\n",
        "  \"\"\"\n",
        "  Fetch exchange rates (USD base currency) for dates and add them to the exchange_rates table in the database.\n",
        "\n",
        "  :dates: A one-dimensional Pandas Dataframe containing dates in YYYY-MM-DD format.\n",
        "  \"\"\"\n",
        "\n",
        "  for date in dates['date']:\n",
        "    r = requests.get(f'https://openexchangerates.org/api/historical/{date}.json?app_id=a937e272181d4ed494e11fcd1fb83c0a&base=USD')\n",
        "\n",
        "    if r.status_code == requests.codes.ok:\n",
        "      rates = r.json()\n",
        "      pairs = json.dumps(rates['rates'])\n",
        "\n",
        "      query = f\"\"\"\n",
        "\n",
        "      insert into\n",
        "        exchange_rates\n",
        "      select\n",
        "        :date as date,\n",
        "        key as currency,\n",
        "        value::text::numeric as rate\n",
        "      from\n",
        "        json_each('{pairs}')\n",
        "      where\n",
        "        ('{date}', key) not in (select distinct date, currency from exchange_rates);\n",
        "\n",
        "      \"\"\"\n",
        "\n",
        "      %sql {query}"
      ],
      "metadata": {
        "id": "XjtR-NQpFGKA",
        "cellView": "form"
      },
      "execution_count": null,
      "outputs": []
    },
    {
      "cell_type": "markdown",
      "source": [
        "## Choose a load"
      ],
      "metadata": {
        "id": "U4apQasSWqjv"
      }
    },
    {
      "cell_type": "code",
      "source": [
        "# @title ### Get a list of loads (collections of collections)\n",
        "\n",
        "%%sql\n",
        "\n",
        "select\n",
        "  load_id,\n",
        "  array_agg(id) as collection_ids,\n",
        "  min(data_version) as min_data_version,\n",
        "  max(data_version) as max_data_version\n",
        "from\n",
        "  collection\n",
        "where\n",
        "  load_id is not null\n",
        "group by\n",
        "  load_id\n",
        "order by\n",
        "  max(data_version) desc;"
      ],
      "metadata": {
        "id": "alK10imnVmgA",
        "cellView": "form"
      },
      "execution_count": null,
      "outputs": []
    },
    {
      "cell_type": "markdown",
      "source": [
        "### Choose `load_id`s to check and compare to"
      ],
      "metadata": {
        "id": "xKx6nWMUWy8F"
      }
    },
    {
      "cell_type": "code",
      "source": [
        "load_id = 'dev_1'"
      ],
      "metadata": {
        "id": "7np8LAar6QUK"
      },
      "execution_count": null,
      "outputs": []
    },
    {
      "cell_type": "code",
      "source": [
        "comparison_load_id = 'dev_2'"
      ],
      "metadata": {
        "id": "yW9mNXEuOHfV"
      },
      "execution_count": null,
      "outputs": []
    },
    {
      "cell_type": "code",
      "source": [
        "# @title ### Get collection ids\n",
        "\n",
        "result = %sql select array_agg(id) as collection_ids from collection where load_id = :load_id;\n",
        "collection_ids = tuple(result['collection_ids'][0])"
      ],
      "metadata": {
        "id": "LZutS-1bZcga",
        "cellView": "form"
      },
      "execution_count": null,
      "outputs": []
    },
    {
      "cell_type": "markdown",
      "source": [
        "## Run checks"
      ],
      "metadata": {
        "id": "OPnM-ojl78gX"
      }
    },
    {
      "cell_type": "code",
      "source": [
        "# @title Set `run_id`\n",
        "\n",
        "from datetime import datetime\n",
        "run_id = datetime.now()"
      ],
      "metadata": {
        "id": "rUPEO9VKaDcT",
        "cellView": "form"
      },
      "execution_count": null,
      "outputs": []
    },
    {
      "cell_type": "code",
      "source": [
        "# @title Populate `run_collection` table\n",
        "\n",
        "%%sql\n",
        "\n",
        "insert into\n",
        "  run_collection\n",
        "select\n",
        "  :run_id as run_id,\n",
        "  id as collection_id\n",
        "from\n",
        "  collection\n",
        "where\n",
        "  load_id = :load_id;"
      ],
      "metadata": {
        "id": "CdeApfOiXhOA",
        "cellView": "form"
      },
      "execution_count": null,
      "outputs": []
    },
    {
      "cell_type": "markdown",
      "source": [
        "### criteria_registered"
      ],
      "metadata": {
        "id": "ub2cqkA3j48v"
      }
    },
    {
      "cell_type": "code",
      "source": [
        "%%sql\n",
        "\n",
        "with failures as (\n",
        "  select\n",
        "    collection_id as collection_id,\n",
        "    json_object_agg(project_id, left(project_id, 13)) as output\n",
        "  from\n",
        "    projects\n",
        "  where\n",
        "    collection_id in :collection_ids\n",
        "  and\n",
        "    left(project_id, 13) not in (select prefix from registered_prefixes)\n",
        "  group by\n",
        "    collection_id\n",
        ")\n",
        "insert into\n",
        "  check_results (run_id, check_id, collection_id, result, output)\n",
        "select\n",
        "\t:run_id as run_id,\n",
        "\t'criteria_registered' as check_id,\n",
        "\tcollection.id as collection_id,\n",
        "  case\n",
        "\t\twhen output is not null then false\n",
        "\t\telse true\n",
        "\tend as result,\n",
        "  output\n",
        "from\n",
        "\tfailures\n",
        "right join\n",
        "  collection on\n",
        "\tfailures.collection_id = collection.id\n",
        "where\n",
        "\tcollection.id in :collection_ids;"
      ],
      "metadata": {
        "id": "j5QV-yTgj89D"
      },
      "execution_count": null,
      "outputs": []
    },
    {
      "cell_type": "markdown",
      "source": [
        "### criteria_appropriate"
      ],
      "metadata": {
        "id": "kpZo1Beu_zLD"
      }
    },
    {
      "cell_type": "code",
      "source": [
        "%%sql\n",
        "\n",
        "with additional_fields as (\n",
        "  select\n",
        "      collection_id,\n",
        "      jsonb_object_agg(key, json_build_object('count', value -> 'count', 'examples', value -> 'examples')) as output\n",
        "  from\n",
        "      collection_check\n",
        "  cross join\n",
        "      jsonb_each(cove_output -> 'additional_fields')\n",
        "  where\n",
        "    collection_id in :collection_ids\n",
        "  and\n",
        "    value -> 'additional_field_descendance' is null\n",
        "  and\n",
        "    jsonb_array_length(value -> 'examples') > 0\n",
        "  group by\n",
        "    collection_id\n",
        ")\n",
        "insert into\n",
        "  check_results (run_id, check_id, collection_id, result, output)\n",
        "select\n",
        "\t:run_id as run_id,\n",
        "\t'criteria_appropriate' as check_id,\n",
        "\tcollection.id,\n",
        "  null as result,\n",
        "  output\n",
        "from\n",
        "\tadditional_fields\n",
        "right join\n",
        "  collection on\n",
        "\tadditional_fields.collection_id = collection.id\n",
        "where\n",
        "\tcollection.id in :collection_ids;"
      ],
      "metadata": {
        "id": "avTOfygq_1Nk"
      },
      "execution_count": null,
      "outputs": []
    },
    {
      "cell_type": "markdown",
      "source": [
        "### criteria_active"
      ],
      "metadata": {
        "id": "8tWQIyFmC4nW"
      }
    },
    {
      "cell_type": "code",
      "source": [
        "%%sql\n",
        "\n",
        "insert into\n",
        "  check_results (run_id, check_id, collection_id, result, output)\n",
        "select\n",
        "  :run_id as run_id,\n",
        "  'criteria_active' as check_id,\n",
        "  collection_id,\n",
        "  case when max(data ->> 'updated')::date >=  current_date - interval '12 month' then true else false end as result,\n",
        "  null as output\n",
        "from\n",
        "  projects\n",
        "where\n",
        "  collection_id in :collection_ids\n",
        "group by\n",
        "  collection_id;"
      ],
      "metadata": {
        "id": "9xK5vQTuC6jf"
      },
      "execution_count": null,
      "outputs": []
    },
    {
      "cell_type": "markdown",
      "source": [
        "### criteria_valid"
      ],
      "metadata": {
        "id": "flMCP98DDWu8"
      }
    },
    {
      "cell_type": "code",
      "source": [
        "%%sql\n",
        "\n",
        "with failures as (\n",
        "  select\n",
        "    collection_id,\n",
        "    count(*) = 0 as result\n",
        "  from\n",
        "    collection_check\n",
        "  cross join\n",
        "    jsonb_array_elements(cove_output -> 'validation_errors') as validation_errors\n",
        "  where\n",
        "    collection_id in :collection_ids\n",
        "  group by\n",
        "    collection_id\n",
        ")\n",
        "insert into\n",
        "  check_results (run_id, check_id, collection_id, result, output)\n",
        "select\n",
        "\t:run_id as run_id,\n",
        "\t'criteria_valid' as check_id,\n",
        "\tcollection.id,\n",
        "\tcase\n",
        "\t\twhen result is not null then false\n",
        "\t\telse true\n",
        "\tend as result,\n",
        "  null as output\n",
        "from\n",
        "\tfailures\n",
        "right join\n",
        "  collection on\n",
        "\tfailures.collection_id = collection.id\n",
        "where\n",
        "\tcollection.id in :collection_ids;"
      ],
      "metadata": {
        "id": "nvXHNgO7DY60"
      },
      "execution_count": null,
      "outputs": []
    },
    {
      "cell_type": "markdown",
      "source": [
        "### criteria_conformant"
      ],
      "metadata": {
        "id": "MyIJzybNHC_2"
      }
    },
    {
      "cell_type": "code",
      "source": [
        "%%sql\n",
        "\n",
        "with failures as (\n",
        "    select\n",
        "        collection_id,\n",
        "        jsonb_build_object('count', count(distinct key)) as output\n",
        "    from\n",
        "        collection_check\n",
        "    cross join\n",
        "        jsonb_each(cove_output -> 'structure_warnings')\n",
        "    where\n",
        "      collection_id in :collection_ids\n",
        "    group by\n",
        "      collection_id\n",
        ")\n",
        "insert into\n",
        "  check_results (run_id, check_id, collection_id, result, output)\n",
        "select\n",
        "\t:run_id as run_id,\n",
        "\t'criteria_conformant' as check_id,\n",
        "\tcollection.id as collection_id,\n",
        "\tcase\n",
        "\t\twhen output is not null then false\n",
        "\t\telse true\n",
        "\tend as result,\n",
        "\tnull as output\n",
        "from\n",
        "\tfailures\n",
        "right join\n",
        "  collection on\n",
        "\tfailures.collection_id = collection.id\n",
        "where\n",
        "\tcollection.id in :collection_ids;"
      ],
      "metadata": {
        "id": "HKyloD0yHFMX"
      },
      "execution_count": null,
      "outputs": []
    },
    {
      "cell_type": "markdown",
      "source": [
        "### metrics_new_projects"
      ],
      "metadata": {
        "id": "lGPvZmg7IVur"
      }
    },
    {
      "cell_type": "code",
      "source": [
        "%%sql\n",
        "\n",
        "with new_projects as (\n",
        "  select\n",
        "    collection_id,\n",
        "    jsonb_build_object('count', count(project_id)) as output\n",
        "  from\n",
        "    projects\n",
        "  where\n",
        "    collection_id in :collection_ids\n",
        "    and\n",
        "    project_id not in (\n",
        "    select\n",
        "      project_id\n",
        "    from\n",
        "      projects\n",
        "    where\n",
        "      collection_id in (\n",
        "      select\n",
        "        id\n",
        "      from\n",
        "        collection\n",
        "      where\n",
        "        load_id = :comparison_load_id\n",
        "      )\n",
        "  )\n",
        "  group by\n",
        "    collection_id\n",
        ")\n",
        "insert into\n",
        "  check_results (run_id, check_id, collection_id, result, output)\n",
        "select\n",
        "\t:run_id as run_id,\n",
        "\t'metrics_new_projects' as check_id,\n",
        "\tcollection.id as collection_id,\n",
        "  null as result,\n",
        "\tcoalesce(output, jsonb_build_object('count', null)) as output\n",
        "from\n",
        "\tnew_projects\n",
        "right join\n",
        "  collection on\n",
        "\tnew_projects.collection_id = collection.id\n",
        "where\n",
        "\tcollection.id in :collection_ids;"
      ],
      "metadata": {
        "id": "w-Izp0U5IYY1"
      },
      "execution_count": null,
      "outputs": []
    },
    {
      "cell_type": "markdown",
      "source": [
        "### metrics_last_updated"
      ],
      "metadata": {
        "id": "3Lh1_AAVOqyP"
      }
    },
    {
      "cell_type": "code",
      "source": [
        "%%sql\n",
        "\n",
        "insert into\n",
        "  check_results (run_id, check_id, collection_id, result, output)\n",
        "select\n",
        "  :run_id as run_id,\n",
        "  'metrics_last_updated' as check_id,\n",
        "  collection_id,\n",
        "  null as result,\n",
        "  jsonb_build_object('date', max(data ->> 'updated')::date) as output\n",
        "from\n",
        "  projects\n",
        "where\n",
        "  collection_id in :collection_ids\n",
        "group by\n",
        "  collection_id;"
      ],
      "metadata": {
        "id": "57YP0OnbOuHo"
      },
      "execution_count": null,
      "outputs": []
    },
    {
      "cell_type": "markdown",
      "source": [
        "### metrics_earliest_start_date"
      ],
      "metadata": {
        "id": "N3KSMijYPTi7"
      }
    },
    {
      "cell_type": "code",
      "source": [
        "%%sql\n",
        "\n",
        "insert into\n",
        "  check_results (run_id, check_id, collection_id, result, output)\n",
        "select\n",
        "  :run_id as run_id,\n",
        "  'metrics_earliest_start_date' as check_id,\n",
        "  collection_id,\n",
        "  null as result,\n",
        "  jsonb_build_object('date', min(data -> 'period' ->> 'startDate')::date) as output\n",
        "from\n",
        "  projects\n",
        "where\n",
        "  collection_id in :collection_ids\n",
        "group by\n",
        "  collection_id;"
      ],
      "metadata": {
        "id": "OJfdHWmzPWXH"
      },
      "execution_count": null,
      "outputs": []
    },
    {
      "cell_type": "markdown",
      "source": [
        "### metrics_latest_end_date"
      ],
      "metadata": {
        "id": "VhYv6au1Pu2M"
      }
    },
    {
      "cell_type": "code",
      "source": [
        "%%sql\n",
        "\n",
        "insert into\n",
        "  check_results (run_id, check_id, collection_id, result, output)\n",
        "select\n",
        "  :run_id as run_id,\n",
        "  'metrics_latest_end_date' as check_id,\n",
        "  collection_id,\n",
        "  null as result,\n",
        "  jsonb_build_object('date', max(data -> 'period' ->> 'endDate')::date) as output\n",
        "from\n",
        "  projects\n",
        "where\n",
        "  collection_id in :collection_ids\n",
        "group by\n",
        "  collection_id;"
      ],
      "metadata": {
        "id": "0VLVKTp9PxjF"
      },
      "execution_count": null,
      "outputs": []
    },
    {
      "cell_type": "markdown",
      "source": [
        "### metrics_additional_field_count"
      ],
      "metadata": {
        "id": "nj0mjGgdQHKM"
      }
    },
    {
      "cell_type": "code",
      "source": [
        "%%sql\n",
        "\n",
        "with counts as (\n",
        "  select distinct\n",
        "    collection_id,\n",
        "    jsonb_build_object('count', count(distinct key)) as output\n",
        "  from\n",
        "      collection_check\n",
        "  cross join\n",
        "      jsonb_each(cove_output -> 'additional_fields')\n",
        "  where\n",
        "    collection_id in :collection_ids\n",
        "  group by\n",
        "    collection_id\n",
        ")\n",
        "insert into\n",
        "  check_results (run_id, check_id, collection_id, result, output)\n",
        "select\n",
        "  :run_id as run_id,\n",
        "  'metrics_additional_field_count' as check_id,\n",
        "\tcollection.id as collection_id,\n",
        "  null as result,\n",
        "\tcoalesce(output, jsonb_build_object('count', null))\n",
        "from\n",
        "\tcounts\n",
        "right join\n",
        "  collection on\n",
        "\tcounts.collection_id = collection.id\n",
        "where\n",
        "\tcollection.id in :collection_ids;"
      ],
      "metadata": {
        "id": "ROzU-FngQJJV"
      },
      "execution_count": null,
      "outputs": []
    },
    {
      "cell_type": "markdown",
      "source": [
        "### metrics_project_count"
      ],
      "metadata": {
        "id": "DyJhROFsRHe_"
      }
    },
    {
      "cell_type": "code",
      "source": [
        "%%sql\n",
        "\n",
        "with counts as (\n",
        "select\n",
        "    collection_id,\n",
        "    jsonb_build_object('count', count(*)) as output\n",
        "from\n",
        "    projects\n",
        "where\n",
        "    collection_id in :collection_ids\n",
        "group by\n",
        "    collection_id\n",
        ")\n",
        "insert into\n",
        "  check_results (run_id, check_id, collection_id, result, output)\n",
        "select\n",
        "  :run_id as run_id,\n",
        "  'metrics_project_count' as check_id,\n",
        "\tcollection.id as collection_id,\n",
        "  null as result,\n",
        "\tcoalesce(output, jsonb_build_object('count', null)) as output\n",
        "from\n",
        "\tcounts\n",
        "right join\n",
        "  collection on\n",
        "\tcounts.collection_id = collection.id\n",
        "where\n",
        "\tcollection.id in :collection_ids;"
      ],
      "metadata": {
        "id": "9hkeBZrERJBW"
      },
      "execution_count": null,
      "outputs": []
    },
    {
      "cell_type": "markdown",
      "source": [
        "### metrics_validation_error_count"
      ],
      "metadata": {
        "id": "mw33F8mCT3nr"
      }
    },
    {
      "cell_type": "code",
      "source": [
        "%%sql\n",
        "\n",
        "with counts as (\n",
        "  select\n",
        "    collection_id,\n",
        "    jsonb_build_object('count', count(distinct replace(trim('\"' from (validation_errors -> 0)::text), '\\', '')::jsonb -> 'message')) as output\n",
        "  from\n",
        "    collection_check\n",
        "  cross join\n",
        "    jsonb_array_elements(cove_output -> 'validation_errors') as validation_errors\n",
        "  where\n",
        "    collection_id in :collection_ids\n",
        "  group by\n",
        "    collection_id\n",
        ")\n",
        "insert into\n",
        "  check_results (run_id, check_id, collection_id, result, output)\n",
        "select\n",
        "  :run_id as run_id,\n",
        "  'metrics_validation_error_count' as check_id,\n",
        "\tcollection.id as collection_id,\n",
        "  null as result,\n",
        "\tcoalesce(output, jsonb_build_object('count', null))\n",
        "from\n",
        "\tcounts\n",
        "right join\n",
        "  collection on\n",
        "\tcounts.collection_id = collection.id\n",
        "where\n",
        "\tcollection.id in :collection_ids;"
      ],
      "metadata": {
        "id": "6_sjDw5VT83x"
      },
      "execution_count": null,
      "outputs": []
    },
    {
      "cell_type": "markdown",
      "source": [
        "### metrics_structure_warning_count"
      ],
      "metadata": {
        "id": "PY-ubRttUm26"
      }
    },
    {
      "cell_type": "code",
      "source": [
        "%%sql\n",
        "\n",
        "with counts as (\n",
        "  select\n",
        "    collection_id,\n",
        "    jsonb_build_object('count', count(distinct key)) as output\n",
        "  from\n",
        "    collection_check\n",
        "  cross join\n",
        "    jsonb_each(cove_output -> 'structure_warnings')\n",
        "  where\n",
        "    collection_id in :collection_ids\n",
        "  group by\n",
        "    collection_id\n",
        ")\n",
        "insert into\n",
        "  check_results (run_id, check_id, collection_id, result, output)\n",
        "select\n",
        "  :run_id as run_id,\n",
        "  'metrics_structure_warning_count' as check_id,\n",
        "\tcollection.id as collection_id,\n",
        "  null as result,\n",
        "\tcoalesce(output, jsonb_build_object('count', null))\n",
        "from\n",
        "\tcounts\n",
        "right join\n",
        "  collection on\n",
        "\tcounts.collection_id = collection.id\n",
        "where\n",
        "\tcollection.id in :collection_ids;"
      ],
      "metadata": {
        "id": "MjAQKESoUq7Z"
      },
      "execution_count": null,
      "outputs": []
    },
    {
      "cell_type": "markdown",
      "source": [
        "### semantics_sector_codelist"
      ],
      "metadata": {
        "id": "-ndjdEFexxDt"
      }
    },
    {
      "cell_type": "code",
      "source": [
        "%%sql\n",
        "\n",
        "insert into\n",
        "  check_results (run_id, check_id, collection_id, result, output)\n",
        "select\n",
        "  :run_id as run_id,\n",
        "  'semantics_sector_codelist' as check_id,\n",
        "  collection_id as collection_id,\n",
        "CASE\n",
        "  WHEN\n",
        "    jsonb_array_length(cove_output -> 'additional_open_codelist_values' -> 'projects/sector' -> 'values') > 0 THEN false\n",
        "  ELSE\n",
        "    true\n",
        "END as result,\n",
        "  jsonb_build_object('all_projects', cove_output -> 'additional_open_codelist_values' -> 'projects/sector' -> 'values') as output\n",
        "from\n",
        "  collection_check\n",
        "where\n",
        "  collection_id in :collection_ids;"
      ],
      "metadata": {
        "id": "8a4ZEwGfwoMl"
      },
      "execution_count": null,
      "outputs": []
    },
    {
      "cell_type": "markdown",
      "source": [
        "### semantics_public_authority_names"
      ],
      "metadata": {
        "id": "AXaZ-gObx97W"
      }
    },
    {
      "cell_type": "code",
      "source": [
        "%%sql\n",
        "\n",
        "with names as (\n",
        "\tselect\n",
        "\t\tcollection_id,\n",
        "\t\tproject_id,\n",
        "\t\tdata -> 'publicAuthority' -> 'name' as name,\n",
        "\t\trow_number() over (partition by collection_id\n",
        "\torder by\n",
        "\t\trandom()) as rank\n",
        "\tfrom\n",
        "\t\tprojects\n",
        "\twhere\n",
        "\t\tcollection_id in :collection_ids\n",
        "\t\tand data -> 'publicAuthority' -> 'name' is not null\n",
        "), output as (\n",
        "\tselect\n",
        "\t\tcollection_id,\n",
        "\t\tjson_object_agg(project_id, name) as output\n",
        "\tfrom\n",
        "\t\tnames\n",
        "\twhere\n",
        "\t\trank <= 10\n",
        "\tgroup by\n",
        "\t\tcollection_id\n",
        ")\n",
        "insert into\n",
        "  check_results (run_id, check_id, collection_id, result, output)\n",
        "select\n",
        "\t:run_id as run_id,\n",
        "\t'semantics_public_authority_names' as check_id,\n",
        "\tcollection.id,\n",
        "\tnull as result,\n",
        "\toutput\n",
        "from\n",
        "\toutput\n",
        "right join\n",
        "  collection on\n",
        "\toutput.collection_id = collection.id\n",
        "where\n",
        "\tcollection.id in :collection_ids;"
      ],
      "metadata": {
        "id": "zJILuU3a08fj"
      },
      "execution_count": null,
      "outputs": []
    },
    {
      "cell_type": "markdown",
      "source": [
        "### semantics_supplier_names"
      ],
      "metadata": {
        "id": "RRXcQHN37Lcq"
      }
    },
    {
      "cell_type": "code",
      "source": [
        "%%sql\n",
        "\n",
        "with names as (\n",
        "\tselect\n",
        "\t\tcollection_id,\n",
        "\t\tproject_id,\n",
        "\t\tsuppliers -> 'name' as name,\n",
        "\t\trow_number() over (partition by collection_id\n",
        "\torder by\n",
        "\t\trandom()) as rank\n",
        "\tfrom\n",
        "\t\tprojects\n",
        "\tcross join jsonb_array_elements(data -> 'contractingProcesses') as contractingProcesses\n",
        "  cross join jsonb_array_elements(contractingProcesses -> 'summary' -> 'suppliers') as suppliers\n",
        "\twhere\n",
        "\t\tcollection_id in :collection_ids\n",
        "  and\n",
        "    data -> 'contractingProcesses' is not null\n",
        "  and\n",
        "    contractingProcesses -> 'summary' -> 'suppliers' is not null\n",
        "  and\n",
        "    suppliers -> 'name' is not null\n",
        "), output as (\n",
        "\tselect\n",
        "\t\tcollection_id,\n",
        "\t\tjson_object_agg(project_id, name) as output\n",
        "\tfrom\n",
        "\t\tnames\n",
        "\twhere\n",
        "\t\trank <= 10\n",
        "\tgroup by\n",
        "\t\tcollection_id\n",
        ")\n",
        "insert into\n",
        "  check_results (run_id, check_id, collection_id, result, output)\n",
        "select\n",
        "\t:run_id as run_id,\n",
        "\t'semantics_supplier_names' as check_id,\n",
        "\tcollection.id,\n",
        "\tnull as result,\n",
        "\toutput\n",
        "from\n",
        "\toutput\n",
        "right join\n",
        "  collection on\n",
        "\toutput.collection_id = collection.id\n",
        "where\n",
        "\tcollection.id in :collection_ids;"
      ],
      "metadata": {
        "id": "zHq5rvlg7QE5"
      },
      "execution_count": null,
      "outputs": []
    },
    {
      "cell_type": "markdown",
      "source": [
        "### semantics_budgets"
      ],
      "metadata": {
        "id": "SOe5sSwmJYP2"
      }
    },
    {
      "cell_type": "markdown",
      "source": [
        "Get previously unseen dates:"
      ],
      "metadata": {
        "id": "aeR8GiIWQtN6"
      }
    },
    {
      "cell_type": "code",
      "source": [
        "%%sql dates <<\n",
        "\n",
        "select distinct\n",
        "  coalesce(data -> 'budget' ->> 'approvalDate', data -> 'period' ->> 'startDate')::date as date\n",
        "from\n",
        "  projects\n",
        "where\n",
        "  collection_id in :collection_ids\n",
        "and\n",
        "  data -> 'period' -> 'startDate' is not null\n",
        "and\n",
        "  data -> 'budget' -> 'amount' -> 'currency' is not null\n",
        "and\n",
        "  data -> 'budget' -> 'amount' -> 'amount' is not null\n",
        "and\n",
        "  data -> 'budget' -> 'amount' ->> 'currency' != 'USD'\n",
        "and\n",
        "  coalesce(data -> 'budget' ->> 'approvalDate', data -> 'period' ->> 'startDate')::date not in (select distinct date from exchange_rates)\n",
        "order by\n",
        "  date asc;"
      ],
      "metadata": {
        "id": "wHUbfK1oO51B"
      },
      "execution_count": null,
      "outputs": []
    },
    {
      "cell_type": "markdown",
      "source": [
        "Add exchange rates to database:"
      ],
      "metadata": {
        "id": "0qwH3VGYdaNr"
      }
    },
    {
      "cell_type": "code",
      "source": [
        "add_exchange_rates(dates)"
      ],
      "metadata": {
        "id": "9sjLJls4T5xu"
      },
      "execution_count": null,
      "outputs": []
    },
    {
      "cell_type": "markdown",
      "source": [
        "Run check:"
      ],
      "metadata": {
        "id": "ok3YrS9_dyPt"
      }
    },
    {
      "cell_type": "code",
      "source": [
        "%%sql\n",
        "\n",
        "with numeric_budgets as(\n",
        "  select\n",
        "    collection_id,\n",
        "    project_id,\n",
        "    coalesce(data -> 'budget' ->> 'approvalDate', data -> 'period' ->> 'startDate')::date as date,\n",
        "    (data -> 'budget' -> 'amount' -> 'amount')::numeric as amount,\n",
        "    data -> 'budget' -> 'amount' ->> 'currency' as currency\n",
        "  from\n",
        "    projects\n",
        "  where\n",
        "    collection_id in :collection_ids\n",
        "  and\n",
        "    jsonb_typeof(DATA -> 'budget' -> 'amount' -> 'amount') = 'number'\n",
        "), usd_budgets as(\n",
        "  select\n",
        "    collection_id,\n",
        "    project_id,\n",
        "    amount / exchange_rates.rate as amount_usd\n",
        "  from\n",
        "    numeric_budgets\n",
        "  join\n",
        "    exchange_rates\n",
        "  on\n",
        "    numeric_budgets.date = exchange_rates.date\n",
        "  and\n",
        "    numeric_budgets.currency = exchange_rates.currency\n",
        "), failures as(\n",
        "  select\n",
        "    collection_id,\n",
        "    json_object_agg(project_id, amount_usd) as output\n",
        "  from\n",
        "    usd_budgets\n",
        "  where\n",
        "    amount_usd <= 0\n",
        "  or\n",
        "    amount_usd >=5000000000\n",
        "  group by\n",
        "    collection_id\n",
        ")\n",
        "-- insert into\n",
        "--   check_results (run_id, check_id, collection_id, result, output)\n",
        "select\n",
        "\t:run_id as run_id,\n",
        "\t'semantics_budgets' as check_id,\n",
        "\tcollection.id as collection_id,\n",
        "\tcase\n",
        "\t\twhen output is not null then false\n",
        "\t\telse true\n",
        "\tend as result,\n",
        "\toutput\n",
        "from\n",
        "\tfailures\n",
        "right join\n",
        "  collection on\n",
        "\tfailures.collection_id = collection.id\n",
        "where\n",
        "\tcollection.id in :collection_ids;"
      ],
      "metadata": {
        "id": "8Px2NkuZJcLk",
        "collapsed": true
      },
      "execution_count": null,
      "outputs": []
    },
    {
      "cell_type": "markdown",
      "source": [
        "### semantics_contract_values"
      ],
      "metadata": {
        "id": "m_n3JtMNJzmt"
      }
    },
    {
      "cell_type": "markdown",
      "source": [
        "Get previously unseen dates:"
      ],
      "metadata": {
        "id": "_2Q1FSFYLhXH"
      }
    },
    {
      "cell_type": "code",
      "source": [
        "%%sql dates <<\n",
        "\n",
        "select distinct\n",
        "  coalesce(\n",
        "    contracting_processes -> 'summary' -> 'contractPeriod' ->> 'startDate',\n",
        "    contracting_processes -> 'summary' -> 'tender' ->> 'datePublished')::date as date\n",
        "from\n",
        "  projects\n",
        "cross join\n",
        "  jsonb_array_elements(data -> 'contractingProcesses') as contracting_processes\n",
        "where\n",
        "  collection_id in :collection_ids\n",
        "and\n",
        "  contracting_processes -> 'summary' -> 'contractValue' -> 'currency' is not null\n",
        "and\n",
        "  contracting_processes -> 'summary' -> 'contractValue' -> 'amount' is not null\n",
        "and\n",
        "  contracting_processes -> 'summary' -> 'contractValue' ->> 'currency' != 'USD'\n",
        "and\n",
        "  coalesce(\n",
        "    contracting_processes -> 'summary' -> 'contractPeriod' ->> 'startDate',\n",
        "    contracting_processes -> 'summary' -> 'tender' ->> 'datePublished')::date not in (select distinct date from exchange_rates)\n",
        "order by\n",
        "  date asc;"
      ],
      "metadata": {
        "id": "rUsu-cedJ6s5"
      },
      "execution_count": null,
      "outputs": []
    },
    {
      "cell_type": "markdown",
      "source": [
        "Add exchange rates to database:"
      ],
      "metadata": {
        "id": "J-Yu3jFZMZXY"
      }
    },
    {
      "cell_type": "code",
      "source": [
        "add_exchange_rates(dates)"
      ],
      "metadata": {
        "id": "UCpOyJRMMW9z"
      },
      "execution_count": null,
      "outputs": []
    },
    {
      "cell_type": "markdown",
      "source": [
        "Run check:"
      ],
      "metadata": {
        "id": "VfmWWujhMdC1"
      }
    },
    {
      "cell_type": "code",
      "source": [
        "%%sql\n",
        "\n",
        "with numeric_values as(\n",
        "  select\n",
        "    collection_id,\n",
        "    project_id,\n",
        "    coalesce(\n",
        "      contracting_processes -> 'summary' -> 'contractPeriod' ->> 'startDate',\n",
        "      contracting_processes -> 'summary' -> 'tender' ->> 'datePublished')::date as date,\n",
        "    (contracting_processes -> 'summary' -> 'contractValue' -> 'amount')::numeric as amount,\n",
        "    contracting_processes -> 'summary' -> 'contractValue' ->> 'currency' as currency\n",
        "  from\n",
        "    projects\n",
        "  cross join\n",
        "    jsonb_array_elements(data -> 'contractingProcesses') as contracting_processes\n",
        "  where\n",
        "    collection_id in :collection_ids\n",
        "  and\n",
        "    jsonb_typeof(contracting_processes -> 'summary' -> 'contractValue' -> 'amount') = 'number'\n",
        "), usd_values as(\n",
        "  select\n",
        "    collection_id,\n",
        "    project_id,\n",
        "    amount / exchange_rates.rate as amount_usd\n",
        "  from\n",
        "    numeric_values\n",
        "  join\n",
        "    exchange_rates\n",
        "  on\n",
        "    numeric_values.date = exchange_rates.date\n",
        "  and\n",
        "    numeric_values.currency = exchange_rates.currency\n",
        "), failures as (\n",
        "  select\n",
        "    collection_id,\n",
        "    json_object_agg(project_id, amount_usd) as output\n",
        "  from\n",
        "    usd_values\n",
        "  where\n",
        "    amount_usd <= 0\n",
        "  or\n",
        "    amount_usd >=5000000000\n",
        "  group by\n",
        "    collection_id\n",
        ")\n",
        "insert into\n",
        "  check_results (run_id, check_id, collection_id, result, output)\n",
        "select\n",
        "  :run_id AS run_id,\n",
        "  'semantics_contract_values' AS check_id,\n",
        "\tcollection.id as collection_id,\n",
        "\tcase\n",
        "\t\twhen output is not null then false\n",
        "\t\telse true\n",
        "\tend as result,\n",
        "\toutput\n",
        "from\n",
        "\tfailures\n",
        "right join\n",
        "  collection on\n",
        "\tfailures.collection_id = collection.id\n",
        "where\n",
        "\tcollection.id in :collection_ids;"
      ],
      "metadata": {
        "id": "b8OjyCRkMd4c"
      },
      "execution_count": null,
      "outputs": []
    },
    {
      "cell_type": "markdown",
      "source": [
        "### semantics_funder_names"
      ],
      "metadata": {
        "id": "IfPNw_zv8UpR"
      }
    },
    {
      "cell_type": "code",
      "source": [
        "%%sql\n",
        "\n",
        "with names as (\n",
        "\tselect\n",
        "\t\tcollection_id,\n",
        "\t\tproject_id,\n",
        "\t\tparties -> 'name' as name,\n",
        "\t\trow_number() over (partition by collection_id\n",
        "\torder by\n",
        "\t\trandom()) as rank\n",
        "\tfrom\n",
        "\t\tprojects\n",
        "\tcross join jsonb_array_elements(data -> 'parties') as parties\n",
        "\twhere\n",
        "\t\tcollection_id in :collection_ids\n",
        "  and\n",
        "    data -> 'parties' is not null\n",
        "  and\n",
        "    parties -> 'name' is not null\n",
        "\tand\n",
        "\t\tparties -> 'roles' ? 'funder'\n",
        "), output as (\n",
        "\tselect\n",
        "\t\tcollection_id,\n",
        "\t\tjson_object_agg(project_id, name) as output\n",
        "\tfrom\n",
        "\t\tnames\n",
        "\twhere\n",
        "\t\trank <= 10\n",
        "\tgroup by\n",
        "\t\tcollection_id\n",
        "\t)\n",
        "insert into\n",
        "  check_results (run_id, check_id, collection_id, result, output)\n",
        "select\n",
        "\t:run_id as run_id,\n",
        "\t'semantics_funder_names' as check_id,\n",
        "\tcollection.id,\n",
        "\tnull as result,\n",
        "\toutput\n",
        "from\n",
        "\toutput\n",
        "right join\n",
        "  collection on\n",
        "\toutput.collection_id = collection.id\n",
        "where\n",
        "\tcollection.id in :collection_ids;"
      ],
      "metadata": {
        "id": "S6QRUXRM8WQf"
      },
      "execution_count": null,
      "outputs": []
    },
    {
      "cell_type": "markdown",
      "source": [
        "### semantics_dates"
      ],
      "metadata": {
        "id": "B5cCODLI9_mZ"
      }
    },
    {
      "cell_type": "code",
      "source": [
        "%%sql\n",
        "\n",
        "with dates as(\n",
        "select\n",
        "\tcollection_id,\n",
        "\tproject_id,\n",
        "\t'updated' as path,\n",
        "\tdata ->> 'updated' as value\n",
        "from\n",
        "\tprojects\n",
        "where\n",
        "\tcollection_id in :collection_ids\n",
        "\tand\n",
        "  data -> 'updated' is not null\n",
        "\tand\n",
        "  data ->> 'updated' != ''\n",
        "union\n",
        "select\n",
        "\tcollection_id,\n",
        "\tproject_id,\n",
        "\t'period/startDate' as path,\n",
        "\tdata -> 'period' ->> 'startDate' as value\n",
        "from\n",
        "\tprojects\n",
        "where\n",
        "\tcollection_id in :collection_ids\n",
        "\tand\n",
        "  data -> 'period' -> 'startDate' is not null\n",
        "\tand\n",
        "  data -> 'period' ->> 'startDate' != ''\n",
        "union\n",
        "select\n",
        "\tcollection_id,\n",
        "\tproject_id,\n",
        "\t'period/endDate' as path,\n",
        "\tdata -> 'period' ->> 'endDate' as value\n",
        "from\n",
        "\tprojects\n",
        "where\n",
        "\tcollection_id in :collection_ids\n",
        "\tand\n",
        "  data -> 'period' -> 'endDate' is not null\n",
        "\tand\n",
        "  data -> 'period' ->> 'endDate' != ''\n",
        "union\n",
        "select\n",
        "\tcollection_id,\n",
        "\tproject_id,\n",
        "\t'completion/endDate' as path,\n",
        "\tdata -> 'completion' ->> 'endDate' as value\n",
        "from\n",
        "\tprojects\n",
        "where\n",
        "\tcollection_id in :collection_ids\n",
        "\tand\n",
        "  data -> 'completion' is not null\n",
        "\tand\n",
        "  data -> 'completion' ->> 'endDate' != ''\n",
        "),\n",
        "failures as (\n",
        "\tselect\n",
        "\t\tcollection_id,\n",
        "\t\tjson_object_agg(project_id, value) as output\n",
        "\tfrom\n",
        "\t\tdates\n",
        "\twhere\n",
        "\t\tvalue::date <= '1970-01-01'::date\n",
        "\t\tor\n",
        "\t\tvalue::date >= '2050-01-01'::date\n",
        "\tgroup by\n",
        "\t\tcollection_id\n",
        ")\n",
        "insert into\n",
        "  check_results (run_id, check_id, collection_id, result, output)\n",
        "select\n",
        "\t:run_id as run_id,\n",
        "\t'semantics_dates' as check_id,\n",
        "\tcollection.id,\n",
        "\tcase\n",
        "\t\twhen output is not null then false\n",
        "\t\telse true\n",
        "\tend as result,\n",
        "\toutput\n",
        "from\n",
        "\tfailures\n",
        "right join\n",
        "  collection on\n",
        "\tfailures.collection_id = collection.id\n",
        "where\n",
        "\tcollection.id in :collection_ids;"
      ],
      "metadata": {
        "id": "cURSKya5-BlE"
      },
      "execution_count": null,
      "outputs": []
    },
    {
      "cell_type": "markdown",
      "source": [
        "### semantics_role_coherence"
      ],
      "metadata": {
        "id": "V5WbhUvgPOFW"
      }
    },
    {
      "cell_type": "code",
      "source": [
        "%%sql\n",
        "\n",
        "with missing_roles as (\n",
        "  -- publicAuthority\n",
        "  select\n",
        "    collection_id,\n",
        "    project_id,\n",
        "    'publicAuthority' as role\n",
        "  from\n",
        "    projects\n",
        "  join\n",
        "    jsonb_array_elements(data -> 'parties') as parties\n",
        "  on\n",
        "    parties -> 'id' = data -> 'publicAuthority' -> 'id'\n",
        "  where\n",
        "    collection_id in :collection_ids\n",
        "  and\n",
        "    not parties -> 'roles' ? 'publicAuthority'\n",
        "  union all\n",
        "  -- budget/sourceParty\n",
        "  select\n",
        "    collection_id,\n",
        "    project_id,\n",
        "    'sourceParty' as role\n",
        "  from\n",
        "    projects\n",
        "  join\n",
        "    jsonb_array_elements(data -> 'parties') as parties\n",
        "  on\n",
        "    parties -> 'id' = data -> 'budget' -> 'sourceParty' -> 'id'\n",
        "  where\n",
        "    collection_id in :collection_ids\n",
        "  and\n",
        "    not parties -> 'roles' ? 'sourceParty'\n",
        "  union all\n",
        "  -- contractingProcesses/summary/tender/tenderers\n",
        "  select\n",
        "    collection_id,\n",
        "    project_id,\n",
        "    'tenderer' as role\n",
        "  from\n",
        "    projects\n",
        "  join\n",
        "    jsonb_array_elements(data -> 'parties') as parties\n",
        "  cross join\n",
        "    jsonb_array_elements(data -> 'contractingProcesses') as contracting_processes\n",
        "  cross join\n",
        "    jsonb_array_elements(contracting_processes -> 'summary' -> 'tender' -> 'tenderers') as tenderers\n",
        "  on\n",
        "    parties -> 'id' =  tenderers -> 'id'\n",
        "  where\n",
        "    collection_id in :collection_ids\n",
        "  and\n",
        "    not parties -> 'roles' ? 'tenderer'\n",
        "  union all\n",
        "  -- contractingProcesses/summary/tender/procuringEntity\n",
        "  select\n",
        "    collection_id,\n",
        "    project_id,\n",
        "    'procuringEntity' as role\n",
        "  from\n",
        "    projects\n",
        "  join\n",
        "    jsonb_array_elements(data -> 'parties') as parties\n",
        "  cross join\n",
        "    jsonb_array_elements(data -> 'contractingProcesses') as contracting_processes\n",
        "  on\n",
        "    parties -> 'id' =  contracting_processes -> 'summary' -> 'tender' -> 'procuringEntity' -> 'id'\n",
        "  where\n",
        "    collection_id in :collection_ids\n",
        "  and\n",
        "    not parties -> 'roles' ? 'procuringEntity'\n",
        "  union all\n",
        "  -- contractingProcesses/summary/tender/administrativeEntity\n",
        "  select\n",
        "    collection_id,\n",
        "    project_id,\n",
        "    'administrativeEntity' as role\n",
        "  from\n",
        "    projects\n",
        "  join\n",
        "    jsonb_array_elements(data -> 'parties') as parties\n",
        "  cross join\n",
        "    jsonb_array_elements(data -> 'contractingProcesses') as contracting_processes\n",
        "  on\n",
        "    parties -> 'id' =  contracting_processes -> 'summary' -> 'tender' -> 'administrativeEntity' -> 'id'\n",
        "  where\n",
        "    collection_id in :collection_ids\n",
        "  and\n",
        "    not parties -> 'roles' ? 'administrativeEntity'\n",
        "  union all\n",
        "  -- contractingProcesses/summary/suppliers\n",
        "  select\n",
        "    collection_id,\n",
        "    project_id,\n",
        "    'supplier' as role\n",
        "  from\n",
        "    projects\n",
        "  join\n",
        "    jsonb_array_elements(data -> 'parties') as parties\n",
        "  cross join\n",
        "    jsonb_array_elements(data -> 'contractingProcesses') as contracting_processes\n",
        "  cross join\n",
        "    jsonb_array_elements(contracting_processes -> 'summary' -> 'suppliers') as suppliers\n",
        "  on\n",
        "    parties -> 'id' =  suppliers -> 'id'\n",
        "  where\n",
        "    collection_id in :collection_ids\n",
        "  and\n",
        "    not parties -> 'roles' ? 'supplier'\n",
        "), failures as (\n",
        "  select\n",
        "    collection_id,\n",
        "    json_object_agg(project_id, role) as output\n",
        "  from\n",
        "    missing_roles\n",
        "  group by\n",
        "    collection_id\n",
        ")\n",
        "insert into\n",
        "  check_results (run_id, check_id, collection_id, result, output)\n",
        "select\n",
        "\t:run_id as run_id,\n",
        "\t'semantics_role_coherence' as check_id,\n",
        "\tcollection.id as collection_id,\n",
        "\tcase\n",
        "\t\twhen output is not null then false\n",
        "\t\telse true\n",
        "\tend as result,\n",
        "\toutput\n",
        "from\n",
        "\tfailures\n",
        "right join\n",
        "  collection on\n",
        "\tfailures.collection_id = collection.id\n",
        "where\n",
        "\tcollection.id in :collection_ids;"
      ],
      "metadata": {
        "id": "7De7a4a5PRRx"
      },
      "execution_count": null,
      "outputs": []
    },
    {
      "cell_type": "markdown",
      "source": [
        "### semantics_coordinates"
      ],
      "metadata": {
        "id": "Eq5kiK6uRIHx"
      }
    },
    {
      "cell_type": "code",
      "source": [
        "%%sql\n",
        "\n",
        "with invalid_coordinates as (\n",
        "  select\n",
        "    collection_id,\n",
        "    project_id,\n",
        "    locations -> 'geometry' -> 'coordinates' as coordinates\n",
        "  from\n",
        "    projects\n",
        "  cross join\n",
        "    jsonb_array_elements(data -> 'locations') as locations\n",
        "  where\n",
        "    collection_id in :collection_ids\n",
        "  and\n",
        "    locations -> 'geometry' ->> 'type' = 'Point'\n",
        "  and\n",
        "    ((locations -> 'geometry' -> 'coordinates' ->> 0)::numeric not between -90 and 90\n",
        "    or\n",
        "    (locations -> 'geometry' -> 'coordinates' ->> 1)::numeric not between -180 and 180)\n",
        "  union all\n",
        "  select\n",
        "    collection_id,\n",
        "    project_id,\n",
        "    locations -> 'geometry' -> 'coordinates' as coordinates\n",
        "  from\n",
        "    projects\n",
        "  cross join\n",
        "    jsonb_array_elements(data -> 'locations') as locations\n",
        "  cross join\n",
        "    jsonb_array_elements(locations -> 'geometry' -> 'coordinates') as coordinates\n",
        "  where\n",
        "    collection_id in :collection_ids\n",
        "  and\n",
        "    locations -> 'geometry' ->> 'type' = 'LineString'\n",
        "  and\n",
        "    ((coordinates ->> 0)::numeric not between -90 and 90\n",
        "    or\n",
        "    (coordinates ->> 1)::numeric not between -180 and 180)\n",
        "), failures as (\n",
        "  select\n",
        "    collection_id,\n",
        "    json_object_agg(project_id, coordinates) as output\n",
        "  from\n",
        "    invalid_coordinates\n",
        "  group by\n",
        "    collection_id\n",
        ")\n",
        "insert into\n",
        "  check_results (run_id, check_id, collection_id, result, output)\n",
        "select\n",
        "\t:run_id as run_id,\n",
        "\t'semantics_coordinates' as check_id,\n",
        "\tcollection.id as collection_id,\n",
        "\tcase\n",
        "\t\twhen output is not null then false\n",
        "\t\telse true\n",
        "\tend as result,\n",
        "\toutput\n",
        "from\n",
        "\tfailures\n",
        "right join\n",
        "  collection on\n",
        "\tfailures.collection_id = collection.id\n",
        "where\n",
        "\tcollection.id in :collection_ids;"
      ],
      "metadata": {
        "id": "j4kNWBM2RKRU"
      },
      "execution_count": null,
      "outputs": []
    }
  ]
}