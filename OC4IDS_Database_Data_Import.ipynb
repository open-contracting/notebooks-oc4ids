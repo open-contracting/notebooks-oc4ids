{
  "nbformat": 4,
  "nbformat_minor": 0,
  "metadata": {
    "colab": {
      "name": " OC4IDS Database - Data Import",
      "provenance": [],
      "collapsed_sections": [],
      "toc_visible": true
    },
    "kernelspec": {
      "name": "python3",
      "display_name": "Python 3"
    }
  },
  "cells": [
    {
      "cell_type": "markdown",
      "metadata": {
        "id": "wlYslPD1uRp2"
      },
      "source": [
        "# OC4IDS Database - Check and Import\n",
        "\n",
        "Use this notebook to check data using the OC4IDS Data Review Tool and to import the data and check results into the OC4IDS database.\n",
        "\n",
        "If your data is formatted as project package, edit the `source_id` and download url then run all cells in the notebook (`Ctrl+F9`) and enter your database credentials at the prompt.\n",
        "\n",
        "Otherwise, you need to reformat your data into a project package and save it as `project_package.json` before running the notebook."
      ]
    },
    {
      "cell_type": "markdown",
      "metadata": {
        "id": "z4-iWuZRhoEe"
      },
      "source": [
        "Enter database credentials.\n",
        "\n",
        "> **Helpdesk analysts:** See [CRM-6335](https://crm.open-contracting.org/issues/6335)."
      ]
    },
    {
      "cell_type": "code",
      "metadata": {
        "id": "IVy70_JfeV9C"
      },
      "source": [
        "import getpass\n",
        "\n",
        "user = 'postgres'\n",
        "password = getpass.getpass('Password:')"
      ],
      "execution_count": null,
      "outputs": []
    },
    {
      "cell_type": "markdown",
      "metadata": {
        "id": "pV9HIDVHxpKS"
      },
      "source": [
        "Set `source_id`:"
      ]
    },
    {
      "cell_type": "code",
      "metadata": {
        "id": "3Uzdauk6xsIe"
      },
      "source": [
        "source_id = 'example'"
      ],
      "execution_count": null,
      "outputs": []
    },
    {
      "cell_type": "markdown",
      "metadata": {
        "id": "veSGp6SIwYRt"
      },
      "source": [
        "Download a project package:"
      ]
    },
    {
      "cell_type": "code",
      "metadata": {
        "id": "RjdRITkBsid3"
      },
      "source": [
        "%%shell\n",
        "\n",
        "curl -L https://standard.open-contracting.org/infrastructure/latest/en/_static/example.json > project_package.json"
      ],
      "execution_count": null,
      "outputs": []
    },
    {
      "cell_type": "markdown",
      "metadata": {
        "id": "3PU3KAsPuYP7"
      },
      "source": [
        "## Setup"
      ]
    },
    {
      "cell_type": "markdown",
      "metadata": {
        "id": "N7eihXsOqxiZ"
      },
      "source": [
        "Install `psql` client:"
      ]
    },
    {
      "cell_type": "code",
      "metadata": {
        "id": "TnDPv6EXquxF"
      },
      "source": [
        "%%shell\n",
        "\n",
        "sudo apt-get update\n",
        "sudo apt-get install -y postgresql-client"
      ],
      "execution_count": null,
      "outputs": []
    },
    {
      "cell_type": "markdown",
      "metadata": {
        "id": "UjTbla1Xq7jJ"
      },
      "source": [
        "Create a `.pgpass` file with database credentials:"
      ]
    },
    {
      "cell_type": "code",
      "metadata": {
        "id": "zhYmhNnwqxHB"
      },
      "source": [
        "!touch ~/.pgpass\n",
        "!chmod 0600 ~/.pgpass\n",
        "!echo database-1.cmc8bohiuyg3.us-east-1.rds.amazonaws.com:5432:postgres:{user}:{password} > ~/.pgpass"
      ],
      "execution_count": null,
      "outputs": []
    },
    {
      "cell_type": "markdown",
      "metadata": {
        "id": "Xycifs7is8Dt"
      },
      "source": [
        "Install `.jq`:"
      ]
    },
    {
      "cell_type": "code",
      "metadata": {
        "id": "VcCYPKJbtALB"
      },
      "source": [
        "%%shell\n",
        "\n",
        "sudo apt-get install jq"
      ],
      "execution_count": null,
      "outputs": []
    },
    {
      "cell_type": "markdown",
      "metadata": {
        "id": "femBJjzTsQtO"
      },
      "source": [
        "Connect notebook to database:"
      ]
    },
    {
      "cell_type": "code",
      "metadata": {
        "id": "bIYcnkQ7rl6B"
      },
      "source": [
        "connection_string = 'postgresql://' + user + ':' + password + '@database-1.cmc8bohiuyg3.us-east-1.rds.amazonaws.com/postgres'\n",
        "\n",
        "%load_ext sql\n",
        "%sql $connection_string"
      ],
      "execution_count": null,
      "outputs": []
    },
    {
      "cell_type": "markdown",
      "metadata": {
        "id": "-q3kWP4a7bIW"
      },
      "source": [
        "Install lib-cove-oc4ids:"
      ]
    },
    {
      "cell_type": "code",
      "metadata": {
        "id": "Ic5au-Fq7dMn"
      },
      "source": [
        "%%shell\n",
        "\n",
        "pip install jsonschema>=3.0.0 --upgrade\n",
        "pip install libcoveoc4ids"
      ],
      "execution_count": null,
      "outputs": []
    },
    {
      "cell_type": "markdown",
      "metadata": {
        "id": "s7w1j3t9wTPM"
      },
      "source": [
        "## Check data"
      ]
    },
    {
      "cell_type": "markdown",
      "metadata": {
        "id": "fz9ZqgSk7q6V"
      },
      "source": [
        "Check data using `libcoveoc4ids`:"
      ]
    },
    {
      "cell_type": "code",
      "metadata": {
        "id": "kBxOdYUg7CiD"
      },
      "source": [
        "%%shell\n",
        "\n",
        "libcoveoc4ids project_package.json > results.json"
      ],
      "execution_count": null,
      "outputs": []
    },
    {
      "cell_type": "markdown",
      "metadata": {
        "id": "PpKqvkB_8BWd"
      },
      "source": [
        "## Import data and check results"
      ]
    },
    {
      "cell_type": "markdown",
      "metadata": {
        "id": "KP5uMmSuMapZ"
      },
      "source": [
        "Use `jq` to generate a new-line delimited JSON file from the project package:"
      ]
    },
    {
      "cell_type": "code",
      "metadata": {
        "id": "SEwoDVukMapa"
      },
      "source": [
        "%%shell\n",
        "\n",
        "cat project_package.json | jq -crM .projects[] > projects.json"
      ],
      "execution_count": null,
      "outputs": []
    },
    {
      "cell_type": "markdown",
      "metadata": {
        "id": "aZCclPabw2Cv"
      },
      "source": [
        "Import data to `temp_data` table:"
      ]
    },
    {
      "cell_type": "code",
      "metadata": {
        "id": "qOouDNlD8tVF"
      },
      "source": [
        "%%sql\n",
        "\n",
        "delete from temp_data;"
      ],
      "execution_count": null,
      "outputs": []
    },
    {
      "cell_type": "code",
      "metadata": {
        "id": "dA8Z8ZLbtElG"
      },
      "source": [
        "!cat projects.json | psql -h \"database-1.cmc8bohiuyg3.us-east-1.rds.amazonaws.com\" -U {user} -d \"postgres\" -c \"COPY temp_data (data) FROM STDIN WITH escape '\\' quote e'\\x01' delimiter e'\\x02' CSV\""
      ],
      "execution_count": null,
      "outputs": []
    },
    {
      "cell_type": "markdown",
      "metadata": {
        "id": "AZhfpWPO8zri"
      },
      "source": [
        "Import check results to `temp_checks`:"
      ]
    },
    {
      "cell_type": "code",
      "metadata": {
        "id": "7iutDHJQ84mH"
      },
      "source": [
        "%%sql\n",
        "\n",
        "delete from temp_checks;"
      ],
      "execution_count": null,
      "outputs": []
    },
    {
      "cell_type": "code",
      "metadata": {
        "id": "vAi0SC7684mn"
      },
      "source": [
        "!cat results.json | jq -crM . | psql -h \"database-1.cmc8bohiuyg3.us-east-1.rds.amazonaws.com\" -U {user} -d \"postgres\" -c \"COPY temp_checks (cove_output) FROM STDIN WITH escape '\\' quote e'\\x01' delimiter e'\\x02' CSV\""
      ],
      "execution_count": null,
      "outputs": []
    },
    {
      "cell_type": "markdown",
      "metadata": {
        "id": "bBj3VI2Ew5jb"
      },
      "source": [
        "Create collection, copy data to `projects` table, copy check results to `collection_check` table, populate `field_counts` and `project_fields` tables:"
      ]
    },
    {
      "cell_type": "code",
      "metadata": {
        "id": "rmTiK5xft12d"
      },
      "source": [
        "%%sql\n",
        "\n",
        "INSERT INTO collection (source_id, data_version)\n",
        "    VALUES (:source_id, CURRENT_TIMESTAMP);\n",
        "\n",
        "INSERT INTO projects (collection_id, project_id, data)\n",
        "SELECT\n",
        "    (\n",
        "        SELECT\n",
        "            id\n",
        "        FROM\n",
        "            collection\n",
        "        ORDER BY\n",
        "            id DESC\n",
        "        LIMIT 1) AS collection_id,\n",
        "    trim(BOTH '\"' FROM (data -> 'id')::text) AS project_id,\n",
        "    data AS data\n",
        "FROM\n",
        "    temp_data;\n",
        "\n",
        "DELETE FROM temp_data;\n",
        "\n",
        "INSERT INTO collection_check (collection_id, cove_output)\n",
        "SELECT\n",
        "    (\n",
        "        SELECT\n",
        "            id\n",
        "        FROM\n",
        "            collection\n",
        "        ORDER BY\n",
        "            id DESC\n",
        "        LIMIT 1) AS collection_id,\n",
        "    cove_output AS cove_output\n",
        "FROM\n",
        "    temp_checks;\n",
        "\n",
        "DELETE FROM temp_checks;\n",
        "\n",
        "INSERT INTO field_counts\n",
        "SELECT\n",
        "    (\n",
        "        SELECT\n",
        "            id\n",
        "        FROM\n",
        "            collection\n",
        "        ORDER BY\n",
        "            id DESC\n",
        "        LIMIT 1) AS collection_id,\n",
        "    path,\n",
        "    regexp_split_to_array(path, '/') AS path_array,\n",
        "    sum(object_property) object_property,\n",
        "    sum(array_item) array_count,\n",
        "    count(DISTINCT id) distinct_projects\n",
        "FROM\n",
        "    projects\n",
        "    CROSS JOIN flatten (data)\n",
        "WHERE\n",
        "    collection_id = (\n",
        "        SELECT\n",
        "            id\n",
        "        FROM\n",
        "            collection\n",
        "        ORDER BY\n",
        "            id DESC\n",
        "        LIMIT 1)\n",
        "GROUP BY\n",
        "    collection_id,\n",
        "    path;\n",
        "\n",
        "WITH RECURSIVE paths (\n",
        "    project_id,\n",
        "    path,\n",
        "    \"value\"\n",
        ") AS (\n",
        "    SELECT\n",
        "        project_id,\n",
        "        (key_value).KEY \"path\",\n",
        "        (key_value).value \"value\",\n",
        "        'true'::boolean \"use_path\"\n",
        "    FROM (\n",
        "        SELECT\n",
        "            project_id,\n",
        "            jsonb_each(data) key_value\n",
        "        FROM\n",
        "            projects\n",
        "        WHERE\n",
        "            collection_id = (\n",
        "                SELECT\n",
        "                    id\n",
        "                FROM\n",
        "                    collection\n",
        "                ORDER BY\n",
        "                    id DESC\n",
        "                LIMIT 1)) a\n",
        "    UNION ALL (\n",
        "        SELECT\n",
        "            project_id,\n",
        "            CASE WHEN key_value IS NOT NULL THEN\n",
        "                path || '/'::text || (key_value).KEY::text\n",
        "            ELSE\n",
        "                path\n",
        "            END \"path\",\n",
        "            CASE WHEN key_value IS NOT NULL THEN\n",
        "            (key_value).value\n",
        "        ELSE\n",
        "            array_value\n",
        "            END \"value\",\n",
        "            key_value IS NOT NULL \"use_path\"\n",
        "        FROM (\n",
        "            SELECT\n",
        "                project_id,\n",
        "                path,\n",
        "                jsonb_each(\n",
        "                    CASE WHEN jsonb_typeof(value) = 'object' THEN\n",
        "                        value\n",
        "                    ELSE\n",
        "                        '{}'::jsonb\n",
        "                    END) key_value,\n",
        "                jsonb_array_elements(\n",
        "                    CASE WHEN jsonb_typeof(value) = 'array'\n",
        "                        AND jsonb_typeof(value -> 0) = 'object' THEN\n",
        "                        value\n",
        "                    ELSE\n",
        "                        '[]'::jsonb\n",
        "                    END) \"array_value\"\n",
        "            FROM\n",
        "                paths) a))\n",
        "    INSERT INTO project_fields\n",
        "    SELECT\n",
        "        (\n",
        "            SELECT\n",
        "                id\n",
        "            FROM\n",
        "                collection\n",
        "            ORDER BY\n",
        "                id DESC\n",
        "            LIMIT 1) AS collection_id,\n",
        "        project_id,\n",
        "        array_agg(path) AS paths\n",
        "FROM\n",
        "    paths\n",
        "WHERE\n",
        "    use_path\n",
        "GROUP BY\n",
        "    project_id;\n"
      ],
      "execution_count": null,
      "outputs": []
    },
    {
      "cell_type": "code",
      "metadata": {
        "id": "Gu8onHSw0bHq"
      },
      "source": [
        ""
      ],
      "execution_count": null,
      "outputs": []
    }
  ]
}
