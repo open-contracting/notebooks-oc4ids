{
  "cells": [
    {
      "cell_type": "markdown",
      "metadata": {
        "id": "RYluNfWQv-xH"
      },
      "source": [
        "# OC4IDS CoST IDS Coverage\n",
        "\n",
        "Use this notebook to calculate the coverage of the CoST Infrastructure Data Standard (IDS), according to the [CoST IDS to OC4IDS mapping](https://standard.open-contracting.org/infrastructure/latest/en/cost/#cost-ids-to-oc4ids-mapping).\n",
        "\n",
        "The notebook generates a CSV file with 3 columns:\n",
        "\n",
        "* The CoST IDS element\n",
        "* The coverage of the element\n",
        "* The coverage of the individual OC4IDS fields that map to the element\n",
        "\n",
        "| CoST IDS element                 | Coverage          | Field Coverage                                     |\n",
        "| -------------------------------- | ----------------- | -------------------------------------------------- |\n",
        "| Procuring entity contact details | 0.833333333333333 | parties/address: 83%<br>parties/contactPoint: 100% |\n",
        "\n",
        "\n",
        "Coverage is measured based on how many projects include the required fields for an element. There may be some false positives, since more granular levels of coverage are not measured. For example, how many individual contracting processes within a project include the required fields. See [this issue](https://github.com/open-contracting/kingfisher-views/issues/29#issuecomment-680326386) for a detailed explanation."
      ]
    },
    {
      "cell_type": "markdown",
      "metadata": {
        "id": "trtuxKpsToCS"
      },
      "source": [
        "## Setup"
      ]
    },
    {
      "cell_type": "markdown",
      "metadata": {
        "id": "1CphynSNKxqb"
      },
      "source": [
        "Enter your OC4IDS database credentials."
      ]
    },
    {
      "cell_type": "code",
      "execution_count": null,
      "metadata": {
        "id": "27yRx-oaXPtd",
        "vscode": {
          "languageId": "python"
        }
      },
      "outputs": [],
      "source": [
        "import getpass\n",
        "\n",
        "print('Enter your credentials')\n",
        "user = 'readonly'\n",
        "password = getpass.getpass('Password:')"
      ]
    },
    {
      "cell_type": "markdown",
      "metadata": {
        "id": "OnGZ5D-zK9e6"
      },
      "source": [
        "Setup notebook environment:"
      ]
    },
    {
      "cell_type": "code",
      "execution_count": null,
      "metadata": {
        "id": "PZShlCS_ToCe",
        "vscode": {
          "languageId": "python"
        }
      },
      "outputs": [],
      "source": [
        "# https://ocdskit.readthedocs.io/\n",
        "!pip install ocdskit\n",
        "\n",
        "connection_string = 'postgresql://' + user + ':' + password + '@oc4ids-database-2.cuujgua4wses.us-east-1.rds.amazonaws.com/postgres'\n",
        "\n",
        "# https://pypi.org/project/ipython-sql/\n",
        "!pip install --upgrade ipython-sql > pip.log\n",
        "%load_ext sql\n",
        "%sql $connection_string\n",
        "%config SqlMagic.autopandas = True  # Return Pandas DataFrames instead of regular result sets\n",
        "%config SqlMagic.displaycon = False  # Don't show connection string after execute\n",
        "%config SqlMagic.feedback = False  # Don't print number of rows affected by DML\n",
        "%config SqlMagic.style = '_DEPRECATED_DEFAULT'\n",
        "\n",
        "# https://colab.research.google.com/notebooks/data_table.ipynb\n",
        "%load_ext google.colab.data_table\n",
        "\n",
        "import csv\n",
        "import matplotlib.pyplot as plt\n",
        "import pandas as pd\n",
        "import requests\n",
        "import seaborn as sns\n",
        "\n",
        "from google.colab import files\n",
        "\n",
        "def get_gsheet(doc_id, sheet_id):\n",
        "\n",
        "  url = f'https://docs.google.com/spreadsheets/d/{doc_id}/export?format=csv&gid={sheet_id}'\n",
        "  response = requests.get(url)\n",
        "  content = response.content.decode('utf-8').splitlines(keepends=True)\n",
        "\n",
        "  return csv.DictReader(content, quotechar='\"')"
      ]
    },
    {
      "cell_type": "markdown",
      "metadata": {
        "id": "kp_b-P2X4oM8"
      },
      "source": [
        "## Choose a collection to query"
      ]
    },
    {
      "cell_type": "markdown",
      "metadata": {
        "id": "qiPI00RHToCq"
      },
      "source": [
        "Set the `collection_id` to query:"
      ]
    },
    {
      "cell_type": "code",
      "execution_count": null,
      "metadata": {
        "id": "dZv0vp_bToCr",
        "vscode": {
          "languageId": "python"
        }
      },
      "outputs": [],
      "source": [
        "collection_id = 50"
      ]
    },
    {
      "cell_type": "markdown",
      "metadata": {
        "id": "5Ej0K5JkToCo"
      },
      "source": [
        "If you don't know which collection you need, run the next cell and use the **Filter** button to filter the collection table to find the collection. You can use the `source_id` column to filter on the name of the data source entered when the data was imported. Use the value from the `id` column to update the previous cell."
      ]
    },
    {
      "cell_type": "code",
      "execution_count": null,
      "metadata": {
        "id": "VO2tADcLToCp",
        "vscode": {
          "languageId": "python"
        }
      },
      "outputs": [],
      "source": [
        "%%sql\n",
        "\n",
        "select\n",
        "  collection.id as collection_id,\n",
        "  source_id,\n",
        "  data_version,\n",
        "  count(*) as project_count\n",
        "from\n",
        "  collection\n",
        "join\n",
        "  projects on collection.id = projects.collection_id\n",
        "group by\n",
        "  collection.id,\n",
        "  source_id,\n",
        "  data_version\n",
        " order by\n",
        "  collection.id desc;"
      ]
    },
    {
      "cell_type": "markdown",
      "metadata": {
        "id": "i3PnuH2j1RRN"
      },
      "source": [
        "## Calculate IDS coverage"
      ]
    },
    {
      "cell_type": "markdown",
      "metadata": {
        "id": "6LMOxWLEdJpv"
      },
      "source": [
        "Calculate IDS coverage:"
      ]
    },
    {
      "cell_type": "code",
      "execution_count": null,
      "metadata": {
        "id": "YQCEeYswJ2do",
        "vscode": {
          "languageId": "python"
        }
      },
      "outputs": [],
      "source": [
        "import csv\n",
        "import requests\n",
        "\n",
        "def get_csv(url):\n",
        "\n",
        "  response = requests.get(url)\n",
        "  content = response.content.decode('utf-8').splitlines(keepends=True)\n",
        "\n",
        "  return csv.DictReader(content, quotechar='\"')\n",
        "\n",
        "# Define a query to check the coverage of a group of fields\n",
        "element_query_template = \"\"\"\n",
        "\n",
        "    SELECT\n",
        "      SUM(CASE WHEN ARRAY{fields} <@ paths THEN 1 ELSE 0 END) as successes,\n",
        "      count(*) as checks,\n",
        "      SUM(CASE WHEN ARRAY{fields} <@ paths THEN 1 ELSE 0 END) / count(*)::numeric as percentage\n",
        "    FROM\n",
        "      project_fields\n",
        "    WHERE\n",
        "      collection_id = :collection_id\n",
        "\n",
        "\"\"\"\n",
        "\n",
        "# Define a query to check the coverage of a single field\n",
        "field_query_template = \"\"\"\n",
        "\n",
        "    SELECT\n",
        "      path,\n",
        "      distinct_projects\n",
        "    FROM\n",
        "      field_counts\n",
        "    WHERE\n",
        "      collection_id = :collection_id\n",
        "    AND\n",
        "      path IN {fields}\n",
        "\n",
        "\"\"\"\n",
        "\n",
        "base_url = 'https://standard.open-contracting.org/infrastructure/latest/en/_static/project-level/'\n",
        "\n",
        "csv_files = [\n",
        "  'process-level-implementation.csv',\n",
        "  'process-level-procurement.csv',\n",
        "  'project-level-completion.csv',\n",
        "  'project-level-identification.csv',\n",
        "  'project-level-preparation.csv',\n",
        "  'reactive-process-level-contract.csv',\n",
        "  'reactive-process-level-implementation.csv',\n",
        "  'reactive-process-level-procurement.csv',\n",
        "  'reactive-project-level-completion.csv',\n",
        "  'reactive-project-level-identification-preparation.csv']\n",
        "\n",
        "elements = []\n",
        "\n",
        "for url in [f'{base_url}{filename}' for filename in csv_files]:\n",
        "  mapping_reader = get_csv(url)\n",
        "\n",
        "  for element in mapping_reader :\n",
        "    if len(element['OC4IDS Fields']) > 0:\n",
        "\n",
        "      element['fields'] = {field: {'coverage': 0} for field in element['OC4IDS Fields'].split(',')}\n",
        "\n",
        "      # Calculate coverage for the element\n",
        "      element_query = element_query_template.format(fields = list(element['fields'].keys()))\n",
        "      element_coverage = %sql {element_query}\n",
        "\n",
        "      element['successes'] = element_coverage['successes'][0]\n",
        "      element['checks'] = element_coverage ['checks'][0]\n",
        "      element['coverage'] = element_coverage['percentage'][0]\n",
        "\n",
        "      # Calculate coverage for each field in the element\n",
        "      fields = [f\"'{field}'\" for field in element[\"fields\"].keys()]\n",
        "      field_query = field_query_template.format(fields = f'({\",\".join(fields)})')\n",
        "      field_coverage = %sql {field_query}\n",
        "\n",
        "      if len(field_coverage) >0:\n",
        "        for field, coverage in field_coverage.set_index('path').to_dict('index').items():\n",
        "          element['fields'][field]['coverage'] = coverage['distinct_projects'] / element['checks']\n",
        "      else:\n",
        "        for field in element[\"fields\"].keys():\n",
        "          element['fields'][field]['coverage'] = 0\n",
        "\n",
        "      elements.append(element)\n"
      ]
    },
    {
      "cell_type": "markdown",
      "metadata": {
        "id": "cG1T7I217cEt"
      },
      "source": [
        "## Generate report"
      ]
    },
    {
      "cell_type": "code",
      "execution_count": null,
      "metadata": {
        "id": "Blk4IYlcPtR8",
        "vscode": {
          "languageId": "python"
        }
      },
      "outputs": [],
      "source": [
        "from google.colab import files\n",
        "\n",
        "filename  = f'{collection_id}_coverage.csv'\n",
        "\n",
        "with open(filename, 'w') as f:\n",
        "\n",
        "  fieldnames = ['CoST IDS element', 'Coverage', 'Field Coverage']\n",
        "\n",
        "  writer = csv.DictWriter(f, fieldnames = fieldnames)\n",
        "  writer.writeheader()\n",
        "\n",
        "  for element in elements:\n",
        "    row = {'CoST IDS element': element['CoST IDS element'],\n",
        "           'Coverage': element['coverage'],\n",
        "           'Field Coverage': '\\n'.join([f'{path}: {\"{:.0%}\".format(details[\"coverage\"])}' for path, details in element['fields'].items()]) }\n",
        "    writer.writerow(row)\n",
        "\n",
        "files.download(filename)"
      ]
    }
  ],
  "metadata": {
    "colab": {
      "name": "OC4IDS CoST IDS Coverage",
      "provenance": [],
      "toc_visible": true
    },
    "kernelspec": {
      "display_name": "Python 3",
      "name": "python3"
    }
  },
  "nbformat": 4,
  "nbformat_minor": 0
}