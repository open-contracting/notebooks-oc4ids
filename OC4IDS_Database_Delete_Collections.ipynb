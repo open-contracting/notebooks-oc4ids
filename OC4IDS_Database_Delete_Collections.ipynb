{
  "nbformat": 4,
  "nbformat_minor": 0,
  "metadata": {
    "colab": {
      "name": "OC4IDS Database - Delete Collections",
      "provenance": [],
      "collapsed_sections": [],
      "toc_visible": true
    },
    "kernelspec": {
      "name": "python3",
      "display_name": "Python 3"
    }
  },
  "cells": [
    {
      "cell_type": "markdown",
      "metadata": {
        "id": "wlYslPD1uRp2"
      },
      "source": [
        "# OC4IDS Database - Delete Collections\n",
        "\n",
        "Use this notebook to delete collections from the database."
      ]
    },
    {
      "cell_type": "markdown",
      "metadata": {
        "id": "z4-iWuZRhoEe"
      },
      "source": [
        "Enter database credentials.\n",
        "\n",
        "> **Helpdesk analysts:** See CRM issue #6335."
      ]
    },
    {
      "cell_type": "code",
      "metadata": {
        "id": "IVy70_JfeV9C"
      },
      "source": [
        "import getpass\n",
        "\n",
        "user = 'postgres'\n",
        "password = getpass.getpass('Password:')"
      ],
      "execution_count": null,
      "outputs": []
    },
    {
      "cell_type": "markdown",
      "metadata": {
        "id": "femBJjzTsQtO"
      },
      "source": [
        "Connect notebook to database:"
      ]
    },
    {
      "cell_type": "code",
      "metadata": {
        "id": "bIYcnkQ7rl6B"
      },
      "source": [
        "connection_string = 'postgresql://' + user + ':' + password + '@oc4ids-database-1.cuujgua4wses.us-east-1.rds.amazonaws.com/postgres'\n",
        "\n",
        "%load_ext sql\n",
        "%sql $connection_string"
      ],
      "execution_count": null,
      "outputs": []
    },
    {
      "cell_type": "markdown",
      "metadata": {
        "id": "aCv8jlj3NC4o"
      },
      "source": [
        "Get project count for each collection:"
      ]
    },
    {
      "cell_type": "code",
      "metadata": {
        "id": "gXMJoFurNGNW"
      },
      "source": [
        "%%sql\n",
        "\n",
        "select collection_id, source_id, data_version, count(*) from projects join collection on projects.collection_id = collection.id group by collection_id, source_id, data_version order by collection_id desc;"
      ],
      "execution_count": null,
      "outputs": []
    },
    {
      "cell_type": "markdown",
      "metadata": {
        "id": "S9vE3ACTNHy7"
      },
      "source": [
        "Set collection ids to delete:"
      ]
    },
    {
      "cell_type": "code",
      "metadata": {
        "id": "AGeQ-bugNird"
      },
      "source": [
        "collection_ids = [3, 12, 13, 14, 15, 16]  # list of collection_ids \n",
        "collection_ids = tuple(collection_ids)  # convert list to tuple for use in sql queries"
      ],
      "execution_count": null,
      "outputs": []
    },
    {
      "cell_type": "markdown",
      "metadata": {
        "id": "mmFsjhU9OFCW"
      },
      "source": [
        "Do you really want to delete these collections?"
      ]
    },
    {
      "cell_type": "code",
      "metadata": {
        "id": "UC55SqEJNlhq"
      },
      "source": [
        "%sql select * from collection where id in :collection_ids"
      ],
      "execution_count": null,
      "outputs": []
    },
    {
      "cell_type": "markdown",
      "metadata": {
        "id": "K-SV0zUTNaD4"
      },
      "source": [
        "Delete collections and data:"
      ]
    },
    {
      "cell_type": "code",
      "metadata": {
        "id": "u7bU7-CcLmbt"
      },
      "source": [
        "%sql delete from collection where id in :collection_ids\n",
        "\n",
        "%sql delete from projects where collection_id in :collection_ids\n",
        "\n",
        "%sql delete from collection_check where collection_id in :collection_ids\n",
        "\n",
        "%sql delete from field_counts where collection_id in :collection_ids\n",
        "\n",
        "%sql delete from project_fields where collection_id in :collection_ids"
      ],
      "execution_count": null,
      "outputs": []
    },
    {
      "cell_type": "markdown",
      "metadata": {
        "id": "306V90ZjNe_S"
      },
      "source": [
        "Check project counts after deletion:"
      ]
    },
    {
      "cell_type": "code",
      "metadata": {
        "id": "8S09Zz0gL1sv"
      },
      "source": [
        "%%sql\n",
        "\n",
        "select collection_id, source_id, data_version, count(*) from projects join collection on projects.collection_id = collection.id group by collection_id, source_id, data_version order by collection_id desc;"
      ],
      "execution_count": null,
      "outputs": []
    }
  ]
}
